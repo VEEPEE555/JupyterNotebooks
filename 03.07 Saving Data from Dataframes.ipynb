{
 "cells": [
  {
   "cell_type": "code",
   "execution_count": 1,
   "metadata": {},
   "outputs": [],
   "source": [
    "data_path = '/home/veepee555/Downloads/data-master'"
   ]
  },
  {
   "cell_type": "code",
   "execution_count": 2,
   "metadata": {},
   "outputs": [],
   "source": [
    "from pyspark.sql import SparkSession\n",
    "spark = SparkSession.builder.appName('TryOutSparkFolks').getOrCreate()\n",
    "file_path = data_path + \"/location_temp.csv\"\n",
    "df1 = spark.read.format(\"csv\").option(\"header\", \"true\").load(file_path)"
   ]
  },
  {
   "cell_type": "code",
   "execution_count": 3,
   "metadata": {},
   "outputs": [
    {
     "name": "stdout",
     "output_type": "stream",
     "text": [
      "+-------------------+-----------+------------+\n",
      "|         event_date|location_id|temp_celcius|\n",
      "+-------------------+-----------+------------+\n",
      "|03/04/2019 19:48:06|       loc0|          29|\n",
      "|03/04/2019 19:53:06|       loc0|          27|\n",
      "|03/04/2019 19:58:06|       loc0|          28|\n",
      "|03/04/2019 20:03:06|       loc0|          30|\n",
      "|03/04/2019 20:08:06|       loc0|          27|\n",
      "|03/04/2019 20:13:06|       loc0|          27|\n",
      "|03/04/2019 20:18:06|       loc0|          27|\n",
      "|03/04/2019 20:23:06|       loc0|          29|\n",
      "|03/04/2019 20:28:06|       loc0|          32|\n",
      "|03/04/2019 20:33:06|       loc0|          35|\n",
      "+-------------------+-----------+------------+\n",
      "only showing top 10 rows\n",
      "\n"
     ]
    }
   ],
   "source": [
    "df1.show(10)"
   ]
  },
  {
   "cell_type": "code",
   "execution_count": 4,
   "metadata": {},
   "outputs": [],
   "source": [
    "df1.write.csv('/home/veepee555/Downloads/data-master/df1.csv')"
   ]
  },
  {
   "cell_type": "code",
   "execution_count": 5,
   "metadata": {},
   "outputs": [
    {
     "name": "stdout",
     "output_type": "stream",
     "text": [
      "part-00000-75c87b72-65bb-4954-b48a-59528fbb5e92-c000.csv\r\n",
      "part-00001-75c87b72-65bb-4954-b48a-59528fbb5e92-c000.csv\r\n",
      "part-00002-75c87b72-65bb-4954-b48a-59528fbb5e92-c000.csv\r\n",
      "part-00003-75c87b72-65bb-4954-b48a-59528fbb5e92-c000.csv\r\n",
      "_SUCCESS\r\n"
     ]
    }
   ],
   "source": [
    "! ls /home/veepee555/Downloads/data-master/df1.csv"
   ]
  },
  {
   "cell_type": "code",
   "execution_count": 6,
   "metadata": {},
   "outputs": [
    {
     "name": "stdout",
     "output_type": "stream",
     "text": [
      "03/04/2019 19:48:06,loc0,29\r\n",
      "03/04/2019 19:53:06,loc0,27\r\n",
      "03/04/2019 19:58:06,loc0,28\r\n",
      "03/04/2019 20:03:06,loc0,30\r\n",
      "03/04/2019 20:08:06,loc0,27\r\n",
      "03/04/2019 20:13:06,loc0,27\r\n",
      "03/04/2019 20:18:06,loc0,27\r\n",
      "03/04/2019 20:23:06,loc0,29\r\n",
      "03/04/2019 20:28:06,loc0,32\r\n",
      "03/04/2019 20:33:06,loc0,35\r\n"
     ]
    }
   ],
   "source": [
    "! head /home/veepee555/Downloads/data-master/df1.csv/part-00000-75c87b72-65bb-4954-b48a-59528fbb5e92-c000.csv"
   ]
  },
  {
   "cell_type": "code",
   "execution_count": 11,
   "metadata": {},
   "outputs": [
    {
     "name": "stdout",
     "output_type": "stream",
     "text": [
      "{\"event_date\":\"03/04/2019 19:48:06\",\"location_id\":\"loc0\",\"temp_celcius\":\"29\"}\r\n",
      "{\"event_date\":\"03/04/2019 19:53:06\",\"location_id\":\"loc0\",\"temp_celcius\":\"27\"}\r\n",
      "{\"event_date\":\"03/04/2019 19:58:06\",\"location_id\":\"loc0\",\"temp_celcius\":\"28\"}\r\n",
      "{\"event_date\":\"03/04/2019 20:03:06\",\"location_id\":\"loc0\",\"temp_celcius\":\"30\"}\r\n",
      "{\"event_date\":\"03/04/2019 20:08:06\",\"location_id\":\"loc0\",\"temp_celcius\":\"27\"}\r\n",
      "{\"event_date\":\"03/04/2019 20:13:06\",\"location_id\":\"loc0\",\"temp_celcius\":\"27\"}\r\n",
      "{\"event_date\":\"03/04/2019 20:18:06\",\"location_id\":\"loc0\",\"temp_celcius\":\"27\"}\r\n",
      "{\"event_date\":\"03/04/2019 20:23:06\",\"location_id\":\"loc0\",\"temp_celcius\":\"29\"}\r\n",
      "{\"event_date\":\"03/04/2019 20:28:06\",\"location_id\":\"loc0\",\"temp_celcius\":\"32\"}\r\n",
      "{\"event_date\":\"03/04/2019 20:33:06\",\"location_id\":\"loc0\",\"temp_celcius\":\"35\"}\r\n"
     ]
    }
   ],
   "source": [
    "! head /home/veepee555/Downloads/data-master/df1.json/part-00000-6e8f876a-d683-4f92-aced-5c415a57829f-c000.json"
   ]
  },
  {
   "cell_type": "code",
   "execution_count": null,
   "metadata": {},
   "outputs": [],
   "source": []
  }
 ],
 "metadata": {
  "kernelspec": {
   "display_name": "Python 3",
   "language": "python",
   "name": "python3"
  },
  "language_info": {
   "codemirror_mode": {
    "name": "ipython",
    "version": 3
   },
   "file_extension": ".py",
   "mimetype": "text/x-python",
   "name": "python",
   "nbconvert_exporter": "python",
   "pygments_lexer": "ipython3",
   "version": "3.7.3"
  }
 },
 "nbformat": 4,
 "nbformat_minor": 2
}
