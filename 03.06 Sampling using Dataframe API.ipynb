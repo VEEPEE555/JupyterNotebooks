{
 "cells": [
  {
   "cell_type": "code",
   "execution_count": 1,
   "metadata": {},
   "outputs": [],
   "source": [
    "data_path = '/home/veepee555/Downloads/data-master'"
   ]
  },
  {
   "cell_type": "code",
   "execution_count": 2,
   "metadata": {},
   "outputs": [],
   "source": [
    "from pyspark.sql import SparkSession\n",
    "spark = SparkSession.builder.appName('TryOutSparkFolks').getOrCreate()\n",
    "file_path = data_path + \"/location_temp.csv\"\n",
    "df1 = spark.read.format(\"csv\").option(\"header\", \"true\").load(file_path)"
   ]
  },
  {
   "cell_type": "code",
   "execution_count": 3,
   "metadata": {},
   "outputs": [
    {
     "name": "stdout",
     "output_type": "stream",
     "text": [
      "+-------------------+-----------+------------+\n",
      "|         event_date|location_id|temp_celcius|\n",
      "+-------------------+-----------+------------+\n",
      "|03/04/2019 19:48:06|       loc0|          29|\n",
      "|03/04/2019 19:53:06|       loc0|          27|\n",
      "|03/04/2019 19:58:06|       loc0|          28|\n",
      "|03/04/2019 20:03:06|       loc0|          30|\n",
      "|03/04/2019 20:08:06|       loc0|          27|\n",
      "|03/04/2019 20:13:06|       loc0|          27|\n",
      "|03/04/2019 20:18:06|       loc0|          27|\n",
      "|03/04/2019 20:23:06|       loc0|          29|\n",
      "|03/04/2019 20:28:06|       loc0|          32|\n",
      "|03/04/2019 20:33:06|       loc0|          35|\n",
      "+-------------------+-----------+------------+\n",
      "only showing top 10 rows\n",
      "\n"
     ]
    }
   ],
   "source": [
    "df1.show(10)"
   ]
  },
  {
   "cell_type": "code",
   "execution_count": 4,
   "metadata": {},
   "outputs": [
    {
     "data": {
      "text/plain": [
       "500000"
      ]
     },
     "execution_count": 4,
     "metadata": {},
     "output_type": "execute_result"
    }
   ],
   "source": [
    "df1.count()"
   ]
  },
  {
   "cell_type": "code",
   "execution_count": 6,
   "metadata": {},
   "outputs": [
    {
     "name": "stdout",
     "output_type": "stream",
     "text": [
      "Help on method sample in module pyspark.sql.dataframe:\n",
      "\n",
      "sample(withReplacement=None, fraction=None, seed=None) method of pyspark.sql.dataframe.DataFrame instance\n",
      "    Returns a sampled subset of this :class:`DataFrame`.\n",
      "    \n",
      "    :param withReplacement: Sample with replacement or not (default False).\n",
      "    :param fraction: Fraction of rows to generate, range [0.0, 1.0].\n",
      "    :param seed: Seed for sampling (default a random seed).\n",
      "    \n",
      "    .. note:: This is not guaranteed to provide exactly the fraction specified of the total\n",
      "        count of the given :class:`DataFrame`.\n",
      "    \n",
      "    .. note:: `fraction` is required and, `withReplacement` and `seed` are optional.\n",
      "    \n",
      "    >>> df = spark.range(10)\n",
      "    >>> df.sample(0.5, 3).count()\n",
      "    4\n",
      "    >>> df.sample(fraction=0.5, seed=3).count()\n",
      "    4\n",
      "    >>> df.sample(withReplacement=True, fraction=0.5, seed=3).count()\n",
      "    1\n",
      "    >>> df.sample(1.0).count()\n",
      "    10\n",
      "    >>> df.sample(fraction=1.0).count()\n",
      "    10\n",
      "    >>> df.sample(False, fraction=1.0).count()\n",
      "    10\n",
      "    \n",
      "    .. versionadded:: 1.3\n",
      "\n"
     ]
    }
   ],
   "source": [
    "help(df1.sample)\n",
    "#df_s1 = df1.sample(fraction=0.1,withReplacement=False)"
   ]
  },
  {
   "cell_type": "code",
   "execution_count": null,
   "metadata": {},
   "outputs": [],
   "source": [
    "df_s1.count()"
   ]
  },
  {
   "cell_type": "code",
   "execution_count": 7,
   "metadata": {},
   "outputs": [
    {
     "name": "stdout",
     "output_type": "stream",
     "text": [
      "+-----------+------------------+\n",
      "|location_id| avg(temp_celcius)|\n",
      "+-----------+------------------+\n",
      "|     loc196|            28.784|\n",
      "|     loc226| 25.39047619047619|\n",
      "|     loc463|23.298969072164947|\n",
      "|     loc150| 32.15094339622642|\n",
      "|     loc292|28.691358024691358|\n",
      "|     loc311|             24.47|\n",
      "|      loc22|28.160919540229884|\n",
      "|     loc351|28.385416666666668|\n",
      "|     loc370|29.110091743119266|\n",
      "|     loc419| 29.42982456140351|\n",
      "+-----------+------------------+\n",
      "only showing top 10 rows\n",
      "\n"
     ]
    }
   ],
   "source": [
    "df_s1.groupBy(\"location_id\").agg({'temp_celcius': 'mean'}).show(10)"
   ]
  },
  {
   "cell_type": "code",
   "execution_count": 8,
   "metadata": {},
   "outputs": [
    {
     "name": "stdout",
     "output_type": "stream",
     "text": [
      "+-----------+------------------+\n",
      "|location_id| avg(temp_celcius)|\n",
      "+-----------+------------------+\n",
      "|       loc0| 29.21978021978022|\n",
      "|       loc1|             27.99|\n",
      "|      loc10|25.194444444444443|\n",
      "|     loc100|27.654205607476637|\n",
      "|     loc101|25.483050847457626|\n",
      "|     loc102|30.798076923076923|\n",
      "|     loc103|25.235955056179776|\n",
      "|     loc104| 26.03488372093023|\n",
      "|     loc105|26.351063829787233|\n",
      "|     loc106|              27.2|\n",
      "+-----------+------------------+\n",
      "only showing top 10 rows\n",
      "\n"
     ]
    }
   ],
   "source": [
    "df_s1.groupBy(\"location_id\").agg({'temp_celcius': 'mean'}).orderBy(\"location_id\").show(10)"
   ]
  },
  {
   "cell_type": "code",
   "execution_count": null,
   "metadata": {},
   "outputs": [],
   "source": [
    "df1.groupBy(\"location_id\").agg({'temp_celcius': 'mean'}).orderBy(\"location_id\").show(10)"
   ]
  },
  {
   "cell_type": "code",
   "execution_count": 10,
   "metadata": {},
   "outputs": [],
   "source": [
    "df_s2 = df1.sample(fraction=0.001,withReplacement=False)"
   ]
  },
  {
   "cell_type": "code",
   "execution_count": 11,
   "metadata": {},
   "outputs": [
    {
     "name": "stdout",
     "output_type": "stream",
     "text": [
      "+-----------+------------------+\n",
      "|location_id| avg(temp_celcius)|\n",
      "+-----------+------------------+\n",
      "|       loc0|              28.0|\n",
      "|       loc1|              28.0|\n",
      "|      loc10|              24.0|\n",
      "|     loc101|              26.0|\n",
      "|     loc104|27.333333333333332|\n",
      "|     loc105|              27.0|\n",
      "|     loc107|              31.0|\n",
      "|     loc108|              30.0|\n",
      "|     loc109|              23.0|\n",
      "|      loc11|24.333333333333332|\n",
      "+-----------+------------------+\n",
      "only showing top 10 rows\n",
      "\n"
     ]
    }
   ],
   "source": [
    "df_s2.groupBy(\"location_id\").agg({'temp_celcius': 'mean'}).orderBy(\"location_id\").show(10)"
   ]
  },
  {
   "cell_type": "code",
   "execution_count": null,
   "metadata": {},
   "outputs": [],
   "source": []
  }
 ],
 "metadata": {
  "kernelspec": {
   "display_name": "Python 3",
   "language": "python",
   "name": "python3"
  },
  "language_info": {
   "codemirror_mode": {
    "name": "ipython",
    "version": 3
   },
   "file_extension": ".py",
   "mimetype": "text/x-python",
   "name": "python",
   "nbconvert_exporter": "python",
   "pygments_lexer": "ipython3",
   "version": "3.7.3"
  }
 },
 "nbformat": 4,
 "nbformat_minor": 2
}
