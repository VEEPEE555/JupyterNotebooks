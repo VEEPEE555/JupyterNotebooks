{
 "cells": [
  {
   "cell_type": "code",
   "execution_count": 1,
   "metadata": {},
   "outputs": [],
   "source": [
    "data_path = '/home/veepee555/Downloads/data-master'"
   ]
  },
  {
   "cell_type": "code",
   "execution_count": 3,
   "metadata": {},
   "outputs": [],
   "source": [
    "from pyspark.sql import SparkSession\n",
    "spark =  SparkSession. \\\n",
    "builder. \\\n",
    "appName('SparkTutorial'). \\\n",
    "getOrCreate()\n",
    "json_df1_path = data_path + \"/location_temp.json\"\n",
    "df1 = spark.read.format(\"json\").load(json_df1_path)"
   ]
  },
  {
   "cell_type": "code",
   "execution_count": 4,
   "metadata": {},
   "outputs": [],
   "source": [
    "json_df2_path = data_path + \"/utilization.json\"\n",
    "df2 = spark.read.format(\"json\").load(json_df2_path)"
   ]
  },
  {
   "cell_type": "code",
   "execution_count": 5,
   "metadata": {},
   "outputs": [
    {
     "data": {
      "text/plain": [
       "500000"
      ]
     },
     "execution_count": 5,
     "metadata": {},
     "output_type": "execute_result"
    }
   ],
   "source": [
    "df1.count()"
   ]
  },
  {
   "cell_type": "code",
   "execution_count": 6,
   "metadata": {},
   "outputs": [
    {
     "data": {
      "text/plain": [
       "[Row(event_date='03/04/2019 19:48:06', location_id='loc0', temp_celcius='29'),\n",
       " Row(event_date='03/04/2019 19:53:06', location_id='loc0', temp_celcius='27'),\n",
       " Row(event_date='03/04/2019 19:58:06', location_id='loc0', temp_celcius='28'),\n",
       " Row(event_date='03/04/2019 20:03:06', location_id='loc0', temp_celcius='30'),\n",
       " Row(event_date='03/04/2019 20:08:06', location_id='loc0', temp_celcius='27'),\n",
       " Row(event_date='03/04/2019 20:13:06', location_id='loc0', temp_celcius='27'),\n",
       " Row(event_date='03/04/2019 20:18:06', location_id='loc0', temp_celcius='27'),\n",
       " Row(event_date='03/04/2019 20:23:06', location_id='loc0', temp_celcius='29'),\n",
       " Row(event_date='03/04/2019 20:28:06', location_id='loc0', temp_celcius='32'),\n",
       " Row(event_date='03/04/2019 20:33:06', location_id='loc0', temp_celcius='35')]"
      ]
     },
     "execution_count": 6,
     "metadata": {},
     "output_type": "execute_result"
    }
   ],
   "source": [
    "df1.head(10)"
   ]
  },
  {
   "cell_type": "code",
   "execution_count": 7,
   "metadata": {},
   "outputs": [
    {
     "data": {
      "text/plain": [
       "500000"
      ]
     },
     "execution_count": 7,
     "metadata": {},
     "output_type": "execute_result"
    }
   ],
   "source": [
    "df2.count()"
   ]
  },
  {
   "cell_type": "code",
   "execution_count": 8,
   "metadata": {},
   "outputs": [
    {
     "name": "stdout",
     "output_type": "stream",
     "text": [
      "+---------------+-------------------+-----------+---------+-------------+\n",
      "|cpu_utilization|     event_datetime|free_memory|server_id|session_count|\n",
      "+---------------+-------------------+-----------+---------+-------------+\n",
      "|           0.77|03/16/2019 17:21:40|       0.22|      115|           58|\n",
      "|           0.53|03/16/2019 17:26:40|       0.23|      115|           64|\n",
      "|            0.6|03/16/2019 17:31:40|       0.19|      115|           82|\n",
      "|           0.46|03/16/2019 17:36:40|       0.32|      115|           60|\n",
      "|           0.77|03/16/2019 17:41:40|       0.49|      115|           84|\n",
      "|           0.62|03/16/2019 17:46:40|       0.31|      115|           73|\n",
      "|           0.71|03/16/2019 17:51:40|       0.54|      115|           67|\n",
      "|           0.67|03/16/2019 17:56:40|       0.54|      115|           83|\n",
      "|           0.72|03/16/2019 18:01:40|       0.26|      115|           68|\n",
      "|           0.62|03/16/2019 18:06:40|       0.52|      115|           60|\n",
      "|           0.58|03/16/2019 18:11:40|       0.23|      115|           60|\n",
      "|           0.51|03/16/2019 18:16:40|       0.35|      115|           62|\n",
      "|           0.54|03/16/2019 18:21:40|       0.33|      115|           78|\n",
      "|           0.84|03/16/2019 18:26:40|       0.35|      115|           66|\n",
      "|           0.65|03/16/2019 18:31:40|       0.51|      115|           89|\n",
      "|            0.8|03/16/2019 18:36:40|       0.25|      115|           76|\n",
      "|           0.66|03/16/2019 18:41:40|       0.41|      115|           87|\n",
      "|           0.67|03/16/2019 18:46:40|       0.36|      115|           62|\n",
      "|           0.63|03/16/2019 18:51:40|       0.54|      115|           67|\n",
      "|           0.51|03/16/2019 18:56:40|       0.51|      115|           58|\n",
      "+---------------+-------------------+-----------+---------+-------------+\n",
      "only showing top 20 rows\n",
      "\n"
     ]
    }
   ],
   "source": [
    "df2.show()"
   ]
  },
  {
   "cell_type": "code",
   "execution_count": 9,
   "metadata": {},
   "outputs": [
    {
     "name": "stdout",
     "output_type": "stream",
     "text": [
      "cards\t\t\tlocation_temp_2.json  retail_db_json\r\n",
      "electionresults\t\tlocation_temp.csv     utilization_2.json\r\n",
      "hive_retail_db_ddl.sql\tlocation_temp.json    utilization.csv\r\n",
      "hr\t\t\tnyse\t\t      utilization.json\r\n",
      "hr_db\t\t\tnyse_all\t      wordcount.txt\r\n",
      "lca\t\t\tREADME.md\r\n",
      "location_temp_1.json\tretail_db\r\n"
     ]
    }
   ],
   "source": [
    "! ls '/home/veepee555/Downloads/data-master'"
   ]
  },
  {
   "cell_type": "code",
   "execution_count": 11,
   "metadata": {},
   "outputs": [
    {
     "name": "stdout",
     "output_type": "stream",
     "text": [
      "part-00000-58bd1a62-eba5-4c26-a8d5-06444ad85b56-c000.json\r\n",
      "part-00001-58bd1a62-eba5-4c26-a8d5-06444ad85b56-c000.json\r\n",
      "part-00002-58bd1a62-eba5-4c26-a8d5-06444ad85b56-c000.json\r\n",
      "part-00003-58bd1a62-eba5-4c26-a8d5-06444ad85b56-c000.json\r\n",
      "_SUCCESS\r\n"
     ]
    }
   ],
   "source": [
    "! ls '/home/veepee555/Downloads/data-master/location_temp.json'"
   ]
  },
  {
   "cell_type": "code",
   "execution_count": 12,
   "metadata": {},
   "outputs": [
    {
     "name": "stdout",
     "output_type": "stream",
     "text": [
      "part-00000-6d2a0836-157c-4d00-8942-7163743056b4-c000.json\r\n",
      "part-00001-6d2a0836-157c-4d00-8942-7163743056b4-c000.json\r\n",
      "part-00002-6d2a0836-157c-4d00-8942-7163743056b4-c000.json\r\n",
      "part-00003-6d2a0836-157c-4d00-8942-7163743056b4-c000.json\r\n"
     ]
    }
   ],
   "source": [
    "! ls '/home/veepee555/Downloads/data-master/utilization.json'"
   ]
  },
  {
   "cell_type": "code",
   "execution_count": null,
   "metadata": {},
   "outputs": [],
   "source": []
  }
 ],
 "metadata": {
  "kernelspec": {
   "display_name": "Python 3",
   "language": "python",
   "name": "python3"
  },
  "language_info": {
   "codemirror_mode": {
    "name": "ipython",
    "version": 3
   },
   "file_extension": ".py",
   "mimetype": "text/x-python",
   "name": "python",
   "nbconvert_exporter": "python",
   "pygments_lexer": "ipython3",
   "version": "3.7.3"
  }
 },
 "nbformat": 4,
 "nbformat_minor": 2
}
